{
 "cells": [
  {
   "cell_type": "code",
   "execution_count": 88,
   "metadata": {},
   "outputs": [],
   "source": [
    "import pandas as pd\n",
    "import numpy as np"
   ]
  },
  {
   "cell_type": "code",
   "execution_count": 89,
   "metadata": {},
   "outputs": [],
   "source": [
    "le_df = pd.read_csv('life_expectancy_years.csv')\n",
    "inc_df = pd.read_csv('income_per_person_gdppercapita_ppp_inflation_adjusted.csv')\n",
    "pop_df = pd.read_csv('population_total.csv')"
   ]
  },
  {
   "cell_type": "code",
   "execution_count": 90,
   "metadata": {},
   "outputs": [],
   "source": [
    "commons = set(le_df['country']).intersection(set(inc_df['country'])).intersection(set(pop_df['country']))\n",
    "commons = list(commons)\n",
    "commons.sort()"
   ]
  },
  {
   "cell_type": "code",
   "execution_count": 91,
   "metadata": {},
   "outputs": [],
   "source": [
    "le_df = le_df[le_df['country'].isin(commons)]\n",
    "inc_df = inc_df[inc_df['country'].isin(commons)]\n",
    "pop_df = pop_df[pop_df['country'].isin(commons)]"
   ]
  },
  {
   "cell_type": "code",
   "execution_count": 92,
   "metadata": {},
   "outputs": [],
   "source": [
    "inc_df['1800'] = np.log(inc_df['1800']) / np.log(2)\n",
    "inc_df['2007'] = np.log(inc_df['2007']) / np.log(2)"
   ]
  },
  {
   "cell_type": "code",
   "execution_count": 94,
   "metadata": {},
   "outputs": [
    {
     "name": "stderr",
     "output_type": "stream",
     "text": [
      "C:\\Python37\\lib\\site-packages\\ipykernel_launcher.py:1: FutureWarning: The signature of `Series.to_csv` was aligned to that of `DataFrame.to_csv`, and argument 'header' will change its default value from False to True: please pass an explicit value to suppress this warning.\n",
      "  \"\"\"Entry point for launching an IPython kernel.\n"
     ]
    }
   ],
   "source": [
    "le_df['country'].to_csv('country.csv')\n",
    "le_df[['1800', '2007']].to_csv('le.csv')\n",
    "inc_df[['1800', '2007']].to_csv('inc.csv')\n",
    "pop_df[['1800', '2007']].to_csv('pop.csv')"
   ]
  },
  {
   "cell_type": "code",
   "execution_count": 100,
   "metadata": {},
   "outputs": [
    {
     "name": "stdout",
     "output_type": "stream",
     "text": [
      "[9.0, 10.0, 11.0, 12.0, 13.0, 14.0, 15.0, 16.0, 17.0]\n",
      "512.0\n",
      "1024.0\n",
      "2048.0\n",
      "4096.0\n",
      "8192.0\n",
      "16384.0\n",
      "32768.0\n",
      "65536.0\n",
      "131072.0\n"
     ]
    }
   ],
   "source": [
    "# dollar values for x-axis\n",
    "vals = list(set(np.round(np.log(inc_df['2006'])/np.log(2))))\n",
    "print(vals)\n",
    "for val in vals:\n",
    "    print(2**val)"
   ]
  },
  {
   "cell_type": "code",
   "execution_count": null,
   "metadata": {},
   "outputs": [],
   "source": []
  }
 ],
 "metadata": {
  "kernelspec": {
   "display_name": "Python 3",
   "language": "python",
   "name": "python3"
  },
  "language_info": {
   "codemirror_mode": {
    "name": "ipython",
    "version": 3
   },
   "file_extension": ".py",
   "mimetype": "text/x-python",
   "name": "python",
   "nbconvert_exporter": "python",
   "pygments_lexer": "ipython3",
   "version": "3.7.4"
  }
 },
 "nbformat": 4,
 "nbformat_minor": 2
}
